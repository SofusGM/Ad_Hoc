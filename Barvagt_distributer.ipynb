{
 "cells": [
  {
   "cell_type": "markdown",
   "metadata": {},
   "source": [
    "# Fordel barvagter tilfældigt"
   ]
  },
  {
   "cell_type": "code",
   "execution_count": 1,
   "metadata": {},
   "outputs": [],
   "source": [
    "import random\n",
    "\n",
    "seed = 502 # Sofus værelsesnummer\n",
    "random.seed(seed) # set seed"
   ]
  },
  {
   "cell_type": "markdown",
   "metadata": {},
   "source": [
    "Først skal jeg bruge hvem der kommer og bartidspunkter"
   ]
  },
  {
   "cell_type": "code",
   "execution_count": 2,
   "metadata": {},
   "outputs": [],
   "source": [
    "medlemmer = {\"Andrea\": 0, \n",
    "            \"Anne\": 1,\n",
    "            \"August\": 2,\n",
    "            \"Bolette\": 3,\n",
    "            \"Daniel\": 4,\n",
    "            \"Ellen\": 5,\n",
    "            \"Frede\": 6,\n",
    "            \"Freja\": 7,\n",
    "            \"Jakob\": 8,\n",
    "            \"Johan\": 9,\n",
    "            \"Karl\": 10,\n",
    "            \"Mikkel\": 11,\n",
    "            \"Olivia\": 12,\n",
    "            \"Sara\": 13,\n",
    "            \"Sofus\": 14,\n",
    "            \"William\": 15,\n",
    "            \"Rasmus\": 16,\n",
    "            }\n",
    "\n",
    "tidspunkter = {\"bar_22\":3,\n",
    "            \"bar_23\":3,\n",
    "            \"bar_00\":3,\n",
    "            \"bar_01\":3,\n",
    "            \"bar_02\":3,\n",
    "            \"bar_03\":2,\n",
    "            \"bar_04\":2,\n",
    "            }\n"
   ]
  },
  {
   "cell_type": "code",
   "execution_count": 3,
   "metadata": {},
   "outputs": [
    {
     "name": "stdout",
     "output_type": "stream",
     "text": [
      "bar_22: ['Freja', 'Bolette', 'Olivia']\n",
      "bar_23: ['Sara', 'Anne', 'Jakob']\n",
      "bar_00: ['Daniel', 'Johan', 'Andrea']\n",
      "bar_01: ['Frede', 'Sofus', 'William']\n",
      "bar_02: ['Ellen', 'Karl', 'August']\n",
      "bar_03: ['Mikkel', 'Rasmus']\n",
      "bar_04: []\n"
     ]
    }
   ],
   "source": [
    "# shuffle medlemmer\n",
    "medlemsliste = list(medlemmer.keys())\n",
    "random.shuffle(medlemsliste)\n",
    "\n",
    "# fordel medlemmer til tidpunkter\n",
    "fordeling = {}\n",
    "i = 0\n",
    "for tidspunkt, count in zip(tidspunkter.keys(), tidspunkter.values()):\n",
    "    fordeling[tidspunkt] = medlemsliste[i:i+count]\n",
    "    i += count\n",
    "\n",
    "# resulter\n",
    "for key, value in fordeling.items():\n",
    "    print(f\"{key}: {value}\")"
   ]
  }
 ],
 "metadata": {
  "kernelspec": {
   "display_name": "base",
   "language": "python",
   "name": "python3"
  },
  "language_info": {
   "codemirror_mode": {
    "name": "ipython",
    "version": 3
   },
   "file_extension": ".py",
   "mimetype": "text/x-python",
   "name": "python",
   "nbconvert_exporter": "python",
   "pygments_lexer": "ipython3",
   "version": "3.11.8"
  }
 },
 "nbformat": 4,
 "nbformat_minor": 2
}
